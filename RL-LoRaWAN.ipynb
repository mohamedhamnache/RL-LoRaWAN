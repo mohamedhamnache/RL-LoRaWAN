{
 "cells": [
  {
   "cell_type": "code",
   "execution_count": 2,
   "metadata": {},
   "outputs": [],
   "source": [
    "# Imports \n",
    "\n",
    "import math\n",
    "\n",
    "import matplotlib.pyplot as plt"
   ]
  },
  {
   "cell_type": "code",
   "execution_count": 14,
   "metadata": {},
   "outputs": [],
   "source": [
    "# Config \n",
    "\n",
    "rho_max = 0.2\n",
    "tp_max = 14\n",
    "tp_min = 2\n",
    "N = 60\n",
    "p = 60\n",
    "\n",
    "BW = 125\n",
    "PL = 30\n",
    "CR = 1\n",
    "\n",
    "TP_SET = [2,5,8,11,14]\n",
    "SF_SET = [7,8,9,10,11,12]\n",
    "CH_SET = ['868.1','868.3','868.5']"
   ]
  },
  {
   "cell_type": "code",
   "execution_count": 12,
   "metadata": {},
   "outputs": [],
   "source": [
    "def toa (sf, cr, pl, bw):\n",
    "        H = 0  # implicit header disabled (H=0) or not (H=1)\n",
    "        DE = 0  # low data rate optimization enabled (=1) or not (=0)\n",
    "        Npream = 8  # number of preamble symbol (12.25  from Utz paper)\n",
    "\n",
    "        if bw == 125 and sf in [11, 12]:\n",
    "            # low data rate optimization mandated for BW125 with SF11 and SF12\n",
    "            DE = 1\n",
    "        if sf == 6:\n",
    "            # can only have implicit header with SF6\n",
    "            H = 1\n",
    "        Tsym = (2.0 ** sf) / bw  # msec\n",
    "        Tpream = (Npream + 4.25) * Tsym\n",
    "        # print \"sf\", sf, \" cr\", cr, \"pl\", pl, \"bw\", bw\n",
    "        payloadSymbNB = 8 + max(\n",
    "            math.ceil((8.0 * pl - 4.0 * sf + 28 + 16 - 20 * H) / (4.0 * (sf - 2 * DE)))\n",
    "            * (cr + 4),\n",
    "            0,\n",
    "        )\n",
    "        Tpayload = payloadSymbNB * Tsym\n",
    "        return (Tpream + Tpayload) / 1000.0  # in seconds\n",
    "\n",
    "def rho_compute(sf,n) : \n",
    "    return (toa(sf,CR,PL,BW)*n)/p\n",
    "\n",
    "def reward_function(rho,u_ch,tp):\n",
    "    return (rho_max)/(rho*u_ch) + ((tp_max - tp)/(tp_max-tp_min))\n"
   ]
  },
  {
   "cell_type": "code",
   "execution_count": 15,
   "metadata": {},
   "outputs": [
    {
     "name": "stdout",
     "output_type": "stream",
     "text": [
      "[0.8340747330960854, 0.7362551867219918, 0.7651300904977376, 0.8825650452488688, 1.0662825226244343, 1.0364388992537314]\n"
     ]
    }
   ],
   "source": [
    "rewards = []\n",
    "tx = 14\n",
    "for sf in SF_SET:\n",
    "    rho = rho_compute(sf,10)\n",
    "    rewards.append(reward_function(rho,20,tx))\n",
    "    if tx >= 5:\n",
    "        tx = tx -3\n",
    "    else:\n",
    "        tx = 2\n",
    "print(rewards)"
   ]
  },
  {
   "cell_type": "code",
   "execution_count": null,
   "metadata": {},
   "outputs": [],
   "source": [
    "def action_space_generator():\n",
    "    action_space = []\n",
    "    for sf in SF_SET:\n",
    "        for tp in TP_SET:\n",
    "            for ch in CH_SET:\n",
    "                action_space.append([sf,tp,ch])\n",
    "    return action_space "
   ]
  },
  {
   "cell_type": "code",
   "execution_count": 73,
   "metadata": {},
   "outputs": [
    {
     "name": "stdout",
     "output_type": "stream",
     "text": [
      "The observation space: Discrete(500)\n",
      "The action space: Discrete(6)\n"
     ]
    }
   ],
   "source": [
    "import gym\n",
    "import numpy as np\n",
    "env = gym.make('Taxi-v3')\n",
    "\n",
    "# Observation and action space \n",
    "obs_space = env.observation_space\n",
    "action_space = env.action_space\n",
    "print(\"The observation space: {}\".format(obs_space))\n",
    "print(\"The action space: {}\".format(action_space))\n",
    "\n",
    "P = {\n",
    "        state: {action: [] for action in range(action_space.n)}\n",
    "        for state in range(obs_space.n)\n",
    "    }\n",
    "#print(P)"
   ]
  },
  {
   "cell_type": "code",
   "execution_count": 95,
   "metadata": {},
   "outputs": [
    {
     "name": "stdout",
     "output_type": "stream",
     "text": [
      "11\n",
      "(3,)\n"
     ]
    }
   ],
   "source": [
    "from gym import spaces\n",
    "action_space = spaces.Box( np.array([7,2,0]), np.array([12,14,2]),dtype =np.int)\n",
    "print(action_space.sample())\n",
    "print(action_space.shape)\n"
   ]
  },
  {
   "cell_type": "code",
   "execution_count": 83,
   "metadata": {},
   "outputs": [
    {
     "name": "stdout",
     "output_type": "stream",
     "text": [
      "(14,)\n",
      "[ 7 14  2]\n",
      "<class 'gym.spaces.box.Box'>\n"
     ]
    }
   ],
   "source": [
    "import gym\n",
    "from gym import spaces\n",
    "N = 100\n",
    "\n",
    "class LoraWANEnv (gym.Env):\n",
    "    \n",
    "    def __init__(self):\n",
    "        self.action_space = spaces.Box(np.array([7,2,0]), np.array([12,14,2]),dtype =np.int)\n",
    "        self.observation_space = spaces.Box(np.array([0,0,0,0,0,0,0,0,0,0,0,0,0,0]), np.array([N,N,N,N,N,N,N,N,N,N,N,N,N,N]),dtype =np.int)\n",
    "    \n",
    "    \n",
    "    def toa (self,sf, cr, pl, bw):\n",
    "        H = 0  # implicit header disabled (H=0) or not (H=1)\n",
    "        DE = 0  # low data rate optimization enabled (=1) or not (=0)\n",
    "        Npream = 8  # number of preamble symbol (12.25  from Utz paper)\n",
    "\n",
    "        if bw == 125 and sf in [11, 12]:\n",
    "            # low data rate optimization mandated for BW125 with SF11 and SF12\n",
    "            DE = 1\n",
    "        if sf == 6:\n",
    "            # can only have implicit header with SF6\n",
    "            H = 1\n",
    "        Tsym = (2.0 ** sf) / bw  # msec\n",
    "        Tpream = (Npream + 4.25) * Tsym\n",
    "        # print \"sf\", sf, \" cr\", cr, \"pl\", pl, \"bw\", bw\n",
    "        payloadSymbNB = 8 + max(\n",
    "            math.ceil((8.0 * pl - 4.0 * sf + 28 + 16 - 20 * H) / (4.0 * (sf - 2 * DE)))\n",
    "            * (cr + 4),\n",
    "            0,\n",
    "        )\n",
    "        Tpayload = payloadSymbNB * Tsym\n",
    "        return (Tpream + Tpayload) / 1000.0  # in seconds\n",
    "\n",
    "\n",
    "    def rho_compute(self,sf,n) : \n",
    "        return (self.toa(sf,CR,PL,BW)*n)/p\n",
    "\n",
    "    def reward_function(self,rho,u_ch,tp):\n",
    "        return (rho_max)/(rho*u_ch) + ((tp_max - tp)/(tp_max-tp_min))\n",
    "    \n",
    "    def reset(self):\n",
    "        pass\n",
    "    \n",
    "    def step(self, action):\n",
    "        assert self.action_space.contains(action)\n",
    "        \n",
    "        return observation, reward, done, info\n",
    "    \n",
    "    def render(self):\n",
    "        pass\n",
    "    \n",
    "    def close(self):\n",
    "        pass\n",
    "        \n",
    "\n",
    "env =LoraWANEnv()\n",
    "print(env.observation_space.shape)\n",
    "print(env.action_space.sample())\n",
    "print(type(env.observation_space))\n",
    "\n"
   ]
  },
  {
   "cell_type": "code",
   "execution_count": 19,
   "metadata": {},
   "outputs": [
    {
     "name": "stdout",
     "output_type": "stream",
     "text": [
      "[7 8 5 5 8]\n"
     ]
    }
   ],
   "source": [
    "action_space = spaces.Box( low=5,high =10, shape =(5,),dtype =np.int)\n",
    "print(action_space.sample())\n"
   ]
  },
  {
   "cell_type": "code",
   "execution_count": 1,
   "metadata": {},
   "outputs": [
    {
     "name": "stdout",
     "output_type": "stream",
     "text": [
      "(0, 2, array([[0.40701246, 0.01831591],\n",
      "       [0.63941157, 0.9320467 ]], dtype=float32))\n",
      "None\n"
     ]
    }
   ],
   "source": [
    "from gym import spaces\n",
    "space = spaces.Tuple((\n",
    "  spaces.Discrete(5),\n",
    "  spaces.Discrete(4),\n",
    "  spaces.Box(low=0, high=1, shape=(2, 2))))\n",
    "print(space.sample())\n",
    "print(space.shape)"
   ]
  },
  {
   "cell_type": "code",
   "execution_count": 5,
   "metadata": {},
   "outputs": [],
   "source": [
    "def reward_plot(rewards):\n",
    "    plt.plot(rewards) \n",
    "    plt.show()\n",
    "\n"
   ]
  },
  {
   "cell_type": "code",
   "execution_count": 6,
   "metadata": {},
   "outputs": [],
   "source": [
    "rewards =[108.05203619909501, 303.3882505842672, 250.1829378753965, 81.78902714932126, 59.76390811778212, 32.15689897514689, 3.179259950248756, 79.09052942115244, 382.8061316729584, 21.094174208144793, 277.2911018381179, 53.27601809954751, 17.425339366515836, 81.78902714932126, 342.9176730891804, 117.13970588235293, 95.54553167420812, 16.00650452488688, 141.1932975113122, 49.35718325791855, 107.1035384709262, 9.837669683257918, 26.013009049773753, 161.8280542986425, 20.911811840120663, 85.40747330960853, 115.33559429968079, 199.25207468879668, 141.97255261823847, 173.38606109536056, 34.127733785822016, 38.49667879493933, 33.39126131221719, 11.717039800995025, 23.594174208144793, 8.87825226244344, 133.56504524886876, 489.50518672199166, 118.11004299581307, 20.283859267013348, 4.393889925373134, 74.66077488687782, 15.256504524886877, 238.36708144796378, 108.55203619909501, 8.858519900497512, 129.71604809335162, 139.47297346258512, 148.82154977375563, 80.03902714932126, 41.588568751266294, 295.753112033195, 224.22841291000918, 55.77601809954751, 11.467039800995025, 149.3582206023169, 29.11771776018099, 8.837669683257918, 9.337669683257918, 7.141779788838612, 21.544284375633147, 44.88845858377794, 62.404270361990946, 108.80203619909501, 5.628252262443438, 18.61502442538439, 18.097685708898943, 16.570630656108595, 15.166032113189708, 9.522142187816574, 41.76951357466063, 37.35067873303167, 130.18288123580106, 163.11472512720377, 139.47297346258512, 67.78252262443438, 254.96526304425376, 13.256504524886875, 14.756504524886877, 11.824142156862745, 118.11527172804516, 73.45135746606334, 12.256504524886877, 175.1931988816605, 17.675339366515836, 48.29305712669683, 19.202394419306184, 12.756504524886877, 9.145786199095022, 14.756504524886877, 10.047087104072398, 13.651795814479637, 16.570630656108595, 111.95996441281137, 352.80523260494994, 10.337669683257918, 21.37122926093514, 43.088568751266294, 151.52705544394584, 68.28252262443438, 22.044284375633147, -5, 49.27601809954751, 41.01951357466063, 99.92378393665157, 81.78902714932126, 63.86368778280543, 32.931843891402714, 63.11368778280543, 68.78252262443438, 119.55854072398189, 66.0731052036199, 38.10067873303167, 16.175339366515836, 59.563797950293775, 3.2877798507462686, -5, 30.891261312217193, 18.884756787330314, 9.837669683257918, 8.285315328054297, 7.378252262443439, 5.9711891968325785, 8.62825226244344, 15.006504524886875, 5.628252262443438, 8.901548359728508, 78.70581194495034, 49.39776583710407, 139.27055091905896, 31.95889894419306, 82.53902714932126, 112.25754186928522, 284.5788816888642, -5, -5, 58.944852941176464, 13.492976998491702, 9.087669683257918, 31.29148164719389, 9.337669683257918, 11.047087104072396, 14.756504524886877, 202.15738200403047, 7.128252262443438, 27.513009049773753, 27.013009049773753, 231.91908713692942, 2.0, 114.92637671091418, -5, -5, 132.81504524886876, -5, 331.12989323843414, -5, 11.297087104072398, 18.230158244411427, 10.837669683257918, 12.151795814479637, 8.837669683257918, 10.047087104072396, 64.5731052036199, 9.837669683257918, 8.285315328054297, 9.667079091251885, 11.047087104072396, 11.047087104072396, 11.047087104072396, 2.418834841628959, -5, -4.0, -4.0, 21.675339366515836, 15.533559577677224, 19.215921945701357, 22.161811840120663, 16.25650452488688, 25.844174208144793, 34.09137147970554, 25.908300339366516, 16.570630656108595, 81.53902714932126, 82.03902714932126, 201.34756787330315, 108.30203619909501, 59.444852941176464, 12.297087104072396, 141.44329751131218, 22.134756787330314, 77.88852772197292, 90.37669683257917, 46.688348416289585, 46.688348416289585, 46.93834841628959, 69.03252262443438, 50.857183257918535, 46.688348416289585, 38.10067873303167, 46.688348416289585, 88.37669683257917, 45.938348416289585, 53.02601809954751, 88.37669683257917, 63.363687782805414, 21.594174208144793, -3.5, 38.35067873303167, 42.76951357466063, 35.87773378582202, 10.942378393665157, 14.256504524886877, 30.26300904977375, 770.9296586628956, 1669.3994661921706, 1669.3994661921706, 1669.3994661921706, 1669.3994661921706, 1669.3994661921706, 1669.3994661921706, 1334.5195729537365, 1669.3994661921706, 1669.3994661921706, 1669.3994661921706, 1669.3994661921706, 1433.520610298135, 1335.7695729537365, 1669.3994661921706, 1334.5195729537365, 1669.3994661921706, 1669.3994661921706, 1669.3994661921706, 1669.3994661921706, 1669.3994661921706, 1335.5195729537365, 375.14940681309474, 14.72944947209653, 190.75207468879668, 10.520032051282051, 14.72944947209653, 14.72944947209653, 12.783559577677224, 120.0585407239819, 70.95135746606334, 14.72944947209653, 14.992976998491702, 11.047087104072396, 11.047087104072396, 11.047087104072396, 11.047087104072396, 9.587669683257918, 13.506504524886877, 22.094174208144793, 22.094174208144793, 22.094174208144793, 22.094174208144793, 18.175339366515836, 40.01951357466063, 33.14126131221719, 27.513009049773753, 32.431843891402714, 22.094174208144793, 30.791481647193894, 22.094174208144793, 22.094174208144793, 22.094174208144793, 22.094174208144793, 22.094174208144793, 22.094174208144793, 22.094174208144793, 31.371528950271266, 44.188348416289585, 44.188348416289585, 44.188348416289585, 44.188348416289585, 44.188348416289585, 44.188348416289585, 44.188348416289585, 44.188348416289585, 44.188348416289585, 44.188348416289585, 44.188348416289585, 44.188348416289585, 44.188348416289585, 44.188348416289585, 44.188348416289585, 44.188348416289585, 44.188348416289585, 44.188348416289585, 35.60067873303167, 44.18834841628959, 66.28252262443438, 66.28252262443438, 125.51404639417208, 225.51508373857044, 329.1701244813278, 262.33609958506224, 225.51508373857044, 329.1701244813278, 329.1701244813278]"
   ]
  },
  {
   "cell_type": "code",
   "execution_count": 8,
   "metadata": {},
   "outputs": [
    {
     "data": {
      "image/png": "[encoded data removed]",
      "text/plain": [
       "<Figure size 432x288 with 1 Axes>"
      ]
     },
     "metadata": {
      "needs_background": "light"
     },
     "output_type": "display_data"
    }
   ],
   "source": [
    "reward_plot(rewards)"
   ]
  }
 ],
 "metadata": {
  "kernelspec": {
   "display_name": "Python 3",
   "language": "python",
   "name": "python3"
  },
  "language_info": {
   "codemirror_mode": {
    "name": "ipython",
    "version": 3
   },
   "file_extension": ".py",
   "mimetype": "text/x-python",
   "name": "python",
   "nbconvert_exporter": "python",
   "pygments_lexer": "ipython3",
   "version": "3.7.4"
  }
 },
 "nbformat": 4,
 "nbformat_minor": 4
}
