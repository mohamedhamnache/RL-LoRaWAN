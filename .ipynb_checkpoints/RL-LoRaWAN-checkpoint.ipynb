{
 "cells": [
  {
   "cell_type": "code",
   "execution_count": 10,
   "metadata": {},
   "outputs": [],
   "source": [
    "# Imports \n",
    "\n",
    "import math\n",
    "\n",
    "import matplotlib.pyplot as plt"
   ]
  },
  {
   "cell_type": "code",
   "execution_count": 14,
   "metadata": {},
   "outputs": [],
   "source": [
    "# Config \n",
    "\n",
    "rho_max = 0.2\n",
    "tp_max = 14\n",
    "tp_min = 2\n",
    "N = 60\n",
    "p = 60\n",
    "\n",
    "BW = 125\n",
    "PL = 30\n",
    "CR = 1\n",
    "\n",
    "TP_SET = [2,5,8,11,14]\n",
    "SF_SET = [7,8,9,10,11,12]\n",
    "CH_SET = ['868.1','868.3','868.5']"
   ]
  },
  {
   "cell_type": "code",
   "execution_count": 12,
   "metadata": {},
   "outputs": [],
   "source": [
    "def toa (sf, cr, pl, bw):\n",
    "        H = 0  # implicit header disabled (H=0) or not (H=1)\n",
    "        DE = 0  # low data rate optimization enabled (=1) or not (=0)\n",
    "        Npream = 8  # number of preamble symbol (12.25  from Utz paper)\n",
    "\n",
    "        if bw == 125 and sf in [11, 12]:\n",
    "            # low data rate optimization mandated for BW125 with SF11 and SF12\n",
    "            DE = 1\n",
    "        if sf == 6:\n",
    "            # can only have implicit header with SF6\n",
    "            H = 1\n",
    "        Tsym = (2.0 ** sf) / bw  # msec\n",
    "        Tpream = (Npream + 4.25) * Tsym\n",
    "        # print \"sf\", sf, \" cr\", cr, \"pl\", pl, \"bw\", bw\n",
    "        payloadSymbNB = 8 + max(\n",
    "            math.ceil((8.0 * pl - 4.0 * sf + 28 + 16 - 20 * H) / (4.0 * (sf - 2 * DE)))\n",
    "            * (cr + 4),\n",
    "            0,\n",
    "        )\n",
    "        Tpayload = payloadSymbNB * Tsym\n",
    "        return (Tpream + Tpayload) / 1000.0  # in seconds\n",
    "\n",
    "def rho_compute(sf,n) : \n",
    "    return (toa(sf,CR,PL,BW)*n)/p\n",
    "\n",
    "def reward_function(rho,u_ch,tp):\n",
    "    return (rho_max)/(rho*u_ch) + ((tp_max - tp)/(tp_max-tp_min))\n"
   ]
  },
  {
   "cell_type": "code",
   "execution_count": 15,
   "metadata": {},
   "outputs": [
    {
     "name": "stdout",
     "output_type": "stream",
     "text": [
      "[0.8340747330960854, 0.7362551867219918, 0.7651300904977376, 0.8825650452488688, 1.0662825226244343, 1.0364388992537314]\n"
     ]
    }
   ],
   "source": [
    "rewards = []\n",
    "tx = 14\n",
    "for sf in SF_SET:\n",
    "    rho = rho_compute(sf,10)\n",
    "    rewards.append(reward_function(rho,20,tx))\n",
    "    if tx >= 5:\n",
    "        tx = tx -3\n",
    "    else:\n",
    "        tx = 2\n",
    "print(rewards)"
   ]
  },
  {
   "cell_type": "code",
   "execution_count": null,
   "metadata": {},
   "outputs": [],
   "source": [
    "def action_space_generator():\n",
    "    action_space = []\n",
    "    for sf in SF_SET:\n",
    "        for tp in TP_SET:\n",
    "            for ch in CH_SET:\n",
    "                action_space.append([sf,tp,ch])\n",
    "    return action_space "
   ]
  },
  {
   "cell_type": "code",
   "execution_count": 73,
   "metadata": {},
   "outputs": [
    {
     "name": "stdout",
     "output_type": "stream",
     "text": [
      "The observation space: Discrete(500)\n",
      "The action space: Discrete(6)\n"
     ]
    }
   ],
   "source": [
    "import gym\n",
    "import numpy as np\n",
    "env = gym.make('Taxi-v3')\n",
    "\n",
    "# Observation and action space \n",
    "obs_space = env.observation_space\n",
    "action_space = env.action_space\n",
    "print(\"The observation space: {}\".format(obs_space))\n",
    "print(\"The action space: {}\".format(action_space))\n",
    "\n",
    "P = {\n",
    "        state: {action: [] for action in range(action_space.n)}\n",
    "        for state in range(obs_space.n)\n",
    "    }\n",
    "#print(P)"
   ]
  },
  {
   "cell_type": "code",
   "execution_count": 95,
   "metadata": {},
   "outputs": [
    {
     "name": "stdout",
     "output_type": "stream",
     "text": [
      "11\n",
      "(3,)\n"
     ]
    }
   ],
   "source": [
    "from gym import spaces\n",
    "action_space = spaces.Box( np.array([7,2,0]), np.array([12,14,2]),dtype =np.int)\n",
    "print(action_space.sample())\n",
    "print(action_space.shape)\n"
   ]
  },
  {
   "cell_type": "code",
   "execution_count": 83,
   "metadata": {},
   "outputs": [
    {
     "name": "stdout",
     "output_type": "stream",
     "text": [
      "(14,)\n",
      "[ 7 14  2]\n",
      "<class 'gym.spaces.box.Box'>\n"
     ]
    }
   ],
   "source": [
    "import gym\n",
    "from gym import spaces\n",
    "N = 100\n",
    "\n",
    "class LoraWANEnv (gym.Env):\n",
    "    \n",
    "    def __init__(self):\n",
    "        self.action_space = spaces.Box(np.array([7,2,0]), np.array([12,14,2]),dtype =np.int)\n",
    "        self.observation_space = spaces.Box(np.array([0,0,0,0,0,0,0,0,0,0,0,0,0,0]), np.array([N,N,N,N,N,N,N,N,N,N,N,N,N,N]),dtype =np.int)\n",
    "    \n",
    "    \n",
    "    def toa (self,sf, cr, pl, bw):\n",
    "        H = 0  # implicit header disabled (H=0) or not (H=1)\n",
    "        DE = 0  # low data rate optimization enabled (=1) or not (=0)\n",
    "        Npream = 8  # number of preamble symbol (12.25  from Utz paper)\n",
    "\n",
    "        if bw == 125 and sf in [11, 12]:\n",
    "            # low data rate optimization mandated for BW125 with SF11 and SF12\n",
    "            DE = 1\n",
    "        if sf == 6:\n",
    "            # can only have implicit header with SF6\n",
    "            H = 1\n",
    "        Tsym = (2.0 ** sf) / bw  # msec\n",
    "        Tpream = (Npream + 4.25) * Tsym\n",
    "        # print \"sf\", sf, \" cr\", cr, \"pl\", pl, \"bw\", bw\n",
    "        payloadSymbNB = 8 + max(\n",
    "            math.ceil((8.0 * pl - 4.0 * sf + 28 + 16 - 20 * H) / (4.0 * (sf - 2 * DE)))\n",
    "            * (cr + 4),\n",
    "            0,\n",
    "        )\n",
    "        Tpayload = payloadSymbNB * Tsym\n",
    "        return (Tpream + Tpayload) / 1000.0  # in seconds\n",
    "\n",
    "\n",
    "    def rho_compute(self,sf,n) : \n",
    "        return (self.toa(sf,CR,PL,BW)*n)/p\n",
    "\n",
    "    def reward_function(self,rho,u_ch,tp):\n",
    "        return (rho_max)/(rho*u_ch) + ((tp_max - tp)/(tp_max-tp_min))\n",
    "    \n",
    "    def reset(self):\n",
    "        pass\n",
    "    \n",
    "    def step(self, action):\n",
    "        assert self.action_space.contains(action)\n",
    "        \n",
    "        return observation, reward, done, info\n",
    "    \n",
    "    def render(self):\n",
    "        pass\n",
    "    \n",
    "    def close(self):\n",
    "        pass\n",
    "        \n",
    "\n",
    "env =LoraWANEnv()\n",
    "print(env.observation_space.shape)\n",
    "print(env.action_space.sample())\n",
    "print(type(env.observation_space))\n",
    "\n"
   ]
  },
  {
   "cell_type": "code",
   "execution_count": 19,
   "metadata": {},
   "outputs": [
    {
     "name": "stdout",
     "output_type": "stream",
     "text": [
      "[7 8 5 5 8]\n"
     ]
    }
   ],
   "source": [
    "action_space = spaces.Box( low=5,high =10, shape =(5,),dtype =np.int)\n",
    "print(action_space.sample())\n"
   ]
  },
  {
   "cell_type": "code",
   "execution_count": 1,
   "metadata": {},
   "outputs": [
    {
     "name": "stdout",
     "output_type": "stream",
     "text": [
      "(0, 2, array([[0.40701246, 0.01831591],\n",
      "       [0.63941157, 0.9320467 ]], dtype=float32))\n",
      "None\n"
     ]
    }
   ],
   "source": [
    "from gym import spaces\n",
    "space = spaces.Tuple((\n",
    "  spaces.Discrete(5),\n",
    "  spaces.Discrete(4),\n",
    "  spaces.Box(low=0, high=1, shape=(2, 2))))\n",
    "print(space.sample())\n",
    "print(space.shape)"
   ]
  },
  {
   "cell_type": "code",
   "execution_count": 1,
   "metadata": {},
   "outputs": [],
   "source": [
    "def reward_plot(rewards):\n",
    "    plt.plot(rewards) \n",
    "    plt.show()"
   ]
  }
 ],
 "metadata": {
  "kernelspec": {
   "display_name": "Python 3",
   "language": "python",
   "name": "python3"
  },
  "language_info": {
   "codemirror_mode": {
    "name": "ipython",
    "version": 3
   },
   "file_extension": ".py",
   "mimetype": "text/x-python",
   "name": "python",
   "nbconvert_exporter": "python",
   "pygments_lexer": "ipython3",
   "version": "3.7.4"
  }
 },
 "nbformat": 4,
 "nbformat_minor": 4
}
