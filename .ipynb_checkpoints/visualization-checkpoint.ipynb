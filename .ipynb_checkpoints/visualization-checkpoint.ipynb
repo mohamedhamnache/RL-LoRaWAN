{
 "cells": [
  {
   "cell_type": "code",
   "execution_count": 13,
   "metadata": {},
   "outputs": [],
   "source": [
    "# Imports\n",
    "import math\n",
    "import random\n",
    "import pandas as pd\n",
    "import matplotlib.pyplot as plt"
   ]
  },
  {
   "cell_type": "code",
   "execution_count": 17,
   "metadata": {},
   "outputs": [
    {
     "name": "stdout",
     "output_type": "stream",
     "text": [
      "[96.5679012345679, 96.66192587634904, 93.19154187921671, 93.37872057785712, 90.53075493160948, 90.75772737380476]\n",
      "[]\n"
     ]
    }
   ],
   "source": [
    "\n",
    "path = 'reports/results/results.csv'\n",
    "def DER_extraction(path):\n",
    "    \n",
    "    df = pd.read_csv (path)\n",
    "    der_alloc = []\n",
    "    der_rl = []\n",
    "    i = 0\n",
    "    for der in df['DER']:\n",
    "        if i % 2 == 0:\n",
    "            der_alloc.append(der)\n",
    "        else :\n",
    "            der_rl.append(der)\n",
    "        i + =1\n",
    "    return der_alloc, der_rl\n",
    "        \n",
    "    \n",
    "\n",
    "der_alloc,der_rl= DER_extraction(path)\n",
    "print(der_alloc)\n",
    "print(der_rl)"
   ]
  }
 ],
 "metadata": {
  "kernelspec": {
   "display_name": "Python 3",
   "language": "python",
   "name": "python3"
  },
  "language_info": {
   "codemirror_mode": {
    "name": "ipython",
    "version": 3
   },
   "file_extension": ".py",
   "mimetype": "text/x-python",
   "name": "python",
   "nbconvert_exporter": "python",
   "pygments_lexer": "ipython3",
   "version": "3.7.4"
  }
 },
 "nbformat": 4,
 "nbformat_minor": 4
}
